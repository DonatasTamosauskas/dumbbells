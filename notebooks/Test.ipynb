{
 "cells": [
  {
   "cell_type": "markdown",
   "id": "aeb25dc9-f3c6-4802-ab3c-94e7a61f93a9",
   "metadata": {},
   "source": [
    "By: Adrian Ruvalcaba, Donatas Tamosauskas, Zaid Al Nouman"
   ]
  },
  {
   "cell_type": "markdown",
   "id": "677a152c-10ea-42b4-a89d-eccd70eaedd1",
   "metadata": {},
   "source": [
    "# Testing Implementation"
   ]
  },
  {
   "cell_type": "code",
   "execution_count": 2,
   "id": "43e72879-cd03-4280-897b-d7817e638099",
   "metadata": {},
   "outputs": [],
   "source": [
    "import random\n",
    "import pickle\n",
    "\n",
    "import matplotlib.pyplot as plt\n",
    "import pandas as pd\n",
    "from tqdm import tqdm\n",
    "import numpy as np\n",
    "from torchsummary import summary\n",
    "\n",
    "from dumbbells.dataset import *\n",
    "from dumbbells.agent import *\n",
    "from dumbbells.q_functions import *\n",
    "from dumbbells.models import *\n",
    "from dumbbells.trainer import *\n",
    "from Trained_weights import *\n",
    "\n",
    "%load_ext autoreload\n",
    "%autoreload 2"
   ]
  },
  {
   "cell_type": "markdown",
   "id": "48c41d2f-0fd3-4066-a4f2-b0f1bb6d4efe",
   "metadata": {},
   "source": [
    "### Let's create an agent with no trained weights"
   ]
  },
  {
   "cell_type": "code",
   "execution_count": 9,
   "id": "0704ba6e-7b80-46b5-ab6c-09b7becf98ca",
   "metadata": {},
   "outputs": [],
   "source": [
    "ARCH = DeepFcDqn\n",
    "ENV = \"CartPole-v1\"\n",
    "MEMORY_BUFFER = 1024\n",
    "GAMMA = 0.999\n",
    "EPS_START = 0.9\n",
    "EPS_END = 0.05\n",
    "EPS_DECAY = 200 \n",
    "\n",
    "\n",
    "dataset = Dataset(ENV, MEMORY_BUFFER)\n",
    "arch = ARCH(dataset.state_space.shape[0], dataset.action_space.n)\n",
    "q_func = DnnQFunction(arch, GAMMA)\n",
    "agent = Agent(\n",
    "        q_func, \n",
    "        dataset.action_space, \n",
    "        dataset.state_space, \n",
    "        dataset.reward_space, \n",
    "        EPS_START, \n",
    "        EPS_END, \n",
    "        EPS_DECAY, \n",
    ")"
   ]
  },
  {
   "cell_type": "markdown",
   "id": "22fb3a83-2f2e-412c-93ca-eb6cdc39efc9",
   "metadata": {},
   "source": [
    "### Now let's load pre-trained weights for our Fully Connect Neural Network!"
   ]
  },
  {
   "cell_type": "code",
   "execution_count": 11,
   "id": "4204175f-6deb-49e2-9975-a4b584fb1528",
   "metadata": {},
   "outputs": [],
   "source": [
    "agent.q.load_weights(\"Trained_weights/FNNModel/model/weights190014-11-34\")"
   ]
  },
  {
   "cell_type": "markdown",
   "id": "d44f3f27-be20-41b9-8ef9-b43135c262e3",
   "metadata": {},
   "source": [
    "Now let's see how our model does..."
   ]
  },
  {
   "cell_type": "code",
   "execution_count": 19,
   "id": "4a9bb7ce-447b-4086-9943-fc18d9604f12",
   "metadata": {},
   "outputs": [],
   "source": [
    "data = Dataset(ENV, 256, produce_gif=True)\n",
    "\n",
    "done = False\n",
    "state = data.reset()\n",
    "\n",
    "for i in range(1000):\n",
    "    if done:\n",
    "        state = data.reset()\n",
    "        done = False\n",
    "        continue\n",
    "    action = agent.action(state.unsqueeze(0))\n",
    "    action = action[0][0].item()\n",
    "    state, reward, done = data.step(action)\n",
    "\n",
    "data.env.close()\n",
    "# Uncomment the line below to obtain a gif of the agent playing\n",
    "# data.save_frames_as_gif(filename=\"FullyConnectedNNAgent.gif\")"
   ]
  },
  {
   "cell_type": "markdown",
   "id": "3d1febeb-81d3-4694-a7e5-d50e316fd784",
   "metadata": {},
   "source": [
    "### Next, let's load pre-trained weights for our Convoluted Neural Network"
   ]
  },
  {
   "cell_type": "code",
   "execution_count": 25,
   "id": "0da4e3b5-6d55-472a-8035-213ba5a4e67b",
   "metadata": {},
   "outputs": [],
   "source": [
    "ARCH = CnnDqn\n",
    "ENV = \"CartPole-v1\"\n",
    "MEMORY_BUFFER = 1024\n",
    "GAMMA = 0.999\n",
    "EPS_START = 0.9\n",
    "EPS_END = 0.05\n",
    "EPS_DECAY = 100 \n",
    "\n",
    "dataset = HistoryDataset(ENV, MEMORY_BUFFER)\n",
    "arch = ARCH(dataset.state_space.shape[0], dataset.action_space.n)\n",
    "q_func = DnnQFunction(arch, GAMMA)\n",
    "agent = Agent(\n",
    "        q_func, \n",
    "        dataset.action_space, \n",
    "        dataset.state_space, \n",
    "        dataset.reward_space, \n",
    "        EPS_START, \n",
    "        EPS_END, \n",
    "        EPS_DECAY, \n",
    ")\n",
    "agent.q.load_weights(\"Trained_weights/CNNModel/model/weights190000-20-17\")"
   ]
  },
  {
   "cell_type": "markdown",
   "id": "e1b537b1-f711-4ba6-852b-ea2421e33a5a",
   "metadata": {},
   "source": [
    "Now let's see how the CNN performs in comparison..."
   ]
  },
  {
   "cell_type": "code",
   "execution_count": 27,
   "id": "721a5087-8f11-4d51-80dd-6e3490993685",
   "metadata": {},
   "outputs": [],
   "source": [
    "data = HistoryDataset(ENV, 256, produce_gif=True)\n",
    "\n",
    "done = False\n",
    "state = data.reset()\n",
    "\n",
    "for i in range(1000):\n",
    "    if done:\n",
    "        state = data.reset()\n",
    "        done = False\n",
    "        continue\n",
    "    action = agent.action(state.unsqueeze(0))\n",
    "    action = action[0][0].item()\n",
    "    state, reward, done = data.step(action)\n",
    "\n",
    "data.env.close()\n",
    "# Uncomment the line below to obtain a gif of the agent playing\n",
    "# data.save_frames_as_gif(filename=\"CNNAgent.gif\")"
   ]
  }
 ],
 "metadata": {
  "kernelspec": {
   "display_name": "Python 3",
   "language": "python",
   "name": "python3"
  },
  "language_info": {
   "codemirror_mode": {
    "name": "ipython",
    "version": 3
   },
   "file_extension": ".py",
   "mimetype": "text/x-python",
   "name": "python",
   "nbconvert_exporter": "python",
   "pygments_lexer": "ipython3",
   "version": "3.8.5"
  }
 },
 "nbformat": 4,
 "nbformat_minor": 5
}
