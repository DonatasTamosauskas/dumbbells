{
 "cells": [
  {
   "cell_type": "markdown",
   "id": "db816ede",
   "metadata": {},
   "source": [
    "By: Adrian Ruvalcaba, Donatas Tamosauskas, Zaid Al Nouman"
   ]
  },
  {
   "cell_type": "markdown",
   "id": "ea9ddfd4",
   "metadata": {},
   "source": [
    "# Testing Implementation"
   ]
  },
  {
   "cell_type": "code",
   "execution_count": 1,
   "id": "b2560b80",
   "metadata": {},
   "outputs": [],
   "source": [
    "import random\n",
    "import pickle\n",
    "\n",
    "import matplotlib.pyplot as plt\n",
    "import pandas as pd\n",
    "from tqdm import tqdm\n",
    "import numpy as np\n",
    "from torchsummary import summary\n",
    "\n",
    "from dumbbells.dataset import *\n",
    "from dumbbells.agent import *\n",
    "from dumbbells.q_functions import *\n",
    "from dumbbells.models import *\n",
    "from dumbbells.trainer import *\n",
    "\n",
    "%load_ext autoreload\n",
    "%autoreload 2"
   ]
  },
  {
   "cell_type": "markdown",
   "id": "d9cd6d44",
   "metadata": {},
   "source": [
    "### Let's create an agent with no trained weights"
   ]
  },
  {
   "cell_type": "code",
   "execution_count": 2,
   "id": "03734a32",
   "metadata": {},
   "outputs": [],
   "source": [
    "ARCH = DeepFcDqn\n",
    "ENV = \"CartPole-v1\"\n",
    "MEMORY_BUFFER = 1024\n",
    "GAMMA = 0.999\n",
    "EPS_START = 0.9\n",
    "EPS_END = 0.05\n",
    "EPS_DECAY = 200 \n",
    "\n",
    "\n",
    "dataset = Dataset(ENV, MEMORY_BUFFER)\n",
    "arch = ARCH(dataset.state_space.shape[0], dataset.action_space.n)\n",
    "q_func = DnnQFunction(arch, GAMMA)\n",
    "agent = Agent(\n",
    "        q_func, \n",
    "        dataset.action_space, \n",
    "        dataset.state_space, \n",
    "        dataset.reward_space, \n",
    "        EPS_START, \n",
    "        EPS_END, \n",
    "        EPS_DECAY, \n",
    ")"
   ]
  },
  {
   "cell_type": "markdown",
   "id": "c8b76997",
   "metadata": {},
   "source": [
    "### Now let's load pre-trained weights for our Fully Connect Neural Network!"
   ]
  },
  {
   "cell_type": "code",
   "execution_count": 3,
   "id": "49530cdd",
   "metadata": {},
   "outputs": [],
   "source": [
    "agent.q.load_weights(\"Trained_weights/FNNModel/model/weights190014-11-34\")"
   ]
  },
  {
   "cell_type": "markdown",
   "id": "bf620916",
   "metadata": {},
   "source": [
    "Now let's see how our model does..."
   ]
  },
  {
   "cell_type": "code",
   "execution_count": 19,
   "id": "fd4f2900",
   "metadata": {},
   "outputs": [],
   "source": [
    "data = Dataset(ENV, 256, produce_gif=True)\n",
    "\n",
    "done = False\n",
    "state = data.reset()\n",
    "\n",
    "for i in range(1000):\n",
    "    if done:\n",
    "        state = data.reset()\n",
    "        done = False\n",
    "        continue\n",
    "    action = agent.action(state.unsqueeze(0))\n",
    "    action = action[0][0].item()\n",
    "    state, reward, done = data.step(action)\n",
    "\n",
    "data.env.close()\n",
    "# Uncomment the line below to obtain a gif of the agent playing\n",
    "# data.save_frames_as_gif(filename=\"FullyConnectedNNAgent.gif\")"
   ]
  },
  {
   "cell_type": "markdown",
   "id": "10845e9f",
   "metadata": {},
   "source": [
    "### Next, let's load pre-trained weights for our Convoluted Neural Network"
   ]
  },
  {
   "cell_type": "code",
   "execution_count": 25,
   "id": "bf3a44cf",
   "metadata": {},
   "outputs": [],
   "source": [
    "ARCH = CnnDqn\n",
    "ENV = \"CartPole-v1\"\n",
    "MEMORY_BUFFER = 1024\n",
    "GAMMA = 0.999\n",
    "EPS_START = 0.9\n",
    "EPS_END = 0.05\n",
    "EPS_DECAY = 100 \n",
    "\n",
    "dataset = HistoryDataset(ENV, MEMORY_BUFFER)\n",
    "arch = ARCH(dataset.state_space.shape[0], dataset.action_space.n)\n",
    "q_func = DnnQFunction(arch, GAMMA)\n",
    "agent = Agent(\n",
    "        q_func, \n",
    "        dataset.action_space, \n",
    "        dataset.state_space, \n",
    "        dataset.reward_space, \n",
    "        EPS_START, \n",
    "        EPS_END, \n",
    "        EPS_DECAY, \n",
    ")\n",
    "agent.q.load_weights(\"Trained_weights/CNNModel/model/weights190000-20-17\")"
   ]
  },
  {
   "cell_type": "markdown",
   "id": "cb4e2d6c",
   "metadata": {},
   "source": [
    "Now let's see how the CNN performs in comparison..."
   ]
  },
  {
   "cell_type": "code",
   "execution_count": 27,
   "id": "9b26b202",
   "metadata": {},
   "outputs": [],
   "source": [
    "data = HistoryDataset(ENV, 256, produce_gif=True)\n",
    "\n",
    "done = False\n",
    "state = data.reset()\n",
    "\n",
    "for i in range(1000):\n",
    "    if done:\n",
    "        state = data.reset()\n",
    "        done = False\n",
    "        continue\n",
    "    action = agent.action(state.unsqueeze(0))\n",
    "    action = action[0][0].item()\n",
    "    state, reward, done = data.step(action)\n",
    "\n",
    "data.env.close()\n",
    "# Uncomment the line below to obtain a gif of the agent playing\n",
    "# data.save_frames_as_gif(filename=\"CNNAgent.gif\")"
   ]
  }
 ],
 "metadata": {
  "kernelspec": {
   "display_name": "Python 3",
   "language": "python",
   "name": "python3"
  },
  "language_info": {
   "codemirror_mode": {
    "name": "ipython",
    "version": 3
   },
   "file_extension": ".py",
   "mimetype": "text/x-python",
   "name": "python",
   "nbconvert_exporter": "python",
   "pygments_lexer": "ipython3",
   "version": "3.8.5"
  }
 },
 "nbformat": 4,
 "nbformat_minor": 5
}
